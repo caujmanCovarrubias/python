{
 "cells": [
  {
   "attachments": {},
   "cell_type": "markdown",
   "metadata": {},
   "source": [
    "# Ejercicio A - calculadora"
   ]
  },
  {
   "attachments": {},
   "cell_type": "markdown",
   "metadata": {},
   "source": [
    "realice el siguiente ejercicio en Python *(utilice las estructuras que se ha visto hasta el momento)*\n",
    "dados 2 numeros recibidos por teclado, calcule las cuatro operaciones fundamentales y muestre el resultado en pantalla."
   ]
  },
  {
   "attachments": {},
   "cell_type": "markdown",
   "metadata": {},
   "source": [
    "Reciba 2 numeros del teclado (utilice ```input()``` para leer cada numero)"
   ]
  },
  {
   "cell_type": "code",
   "execution_count": 1,
   "metadata": {},
   "outputs": [],
   "source": [
    "num1 = input(\"ingrese el 1er numero\")\n",
    "num2 = input(\"ingrese el 2do numero\")"
   ]
  },
  {
   "attachments": {},
   "cell_type": "markdown",
   "metadata": {},
   "source": [
    "Imprima los dos numeros (que observa en el resultado)"
   ]
  },
  {
   "cell_type": "code",
   "execution_count": 2,
   "metadata": {},
   "outputs": [
    {
     "name": "stdout",
     "output_type": "stream",
     "text": [
      "5\n",
      "3\n"
     ]
    }
   ],
   "source": [
    "print (num1)\n",
    "print (num2)"
   ]
  },
  {
   "attachments": {},
   "cell_type": "markdown",
   "metadata": {},
   "source": [
    "Convierta los numeros de texto a enteros (utilice ```int()```) y calcule la suma, la resta, la multiplicacion y la division de ambos numeros."
   ]
  },
  {
   "cell_type": "code",
   "execution_count": 4,
   "metadata": {},
   "outputs": [],
   "source": [
    "num1 = int(num1)\n",
    "num2 = int(num2)\n",
    "sum = num1 + num2\n",
    "res = num1 - num2\n",
    "mul = num1 * num2\n",
    "div = num1 / num2"
   ]
  },
  {
   "attachments": {},
   "cell_type": "markdown",
   "metadata": {},
   "source": [
    "Saque el mensaje final en un texto f donde colocara los numeros y los resultados obtenidos de las 4 opraciones."
   ]
  },
  {
   "cell_type": "code",
   "execution_count": 5,
   "metadata": {},
   "outputs": [
    {
     "name": "stdout",
     "output_type": "stream",
     "text": [
      "\n",
      "para los numeros 5 y 3,\n",
      "el resultado de la suma es 8, la resta es 2,\n",
      "la multiplicacion es 15 y la division es 1.6666666666666667\n",
      "\n"
     ]
    }
   ],
   "source": [
    "men = f\"\"\"\n",
    "para los numeros {num1} y {num2},\n",
    "el resultado de la suma es {sum}, la resta es {res},\n",
    "la multiplicacion es {mul} y la division es {div}\n",
    "\"\"\"\n",
    "print (men)"
   ]
  }
 ],
 "metadata": {
  "kernelspec": {
   "display_name": "Python 3",
   "language": "python",
   "name": "python3"
  },
  "language_info": {
   "codemirror_mode": {
    "name": "ipython",
    "version": 3
   },
   "file_extension": ".py",
   "mimetype": "text/x-python",
   "name": "python",
   "nbconvert_exporter": "python",
   "pygments_lexer": "ipython3",
   "version": "3.11.3"
  },
  "orig_nbformat": 4
 },
 "nbformat": 4,
 "nbformat_minor": 2
}
