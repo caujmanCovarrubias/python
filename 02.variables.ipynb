{
 "cells": [
  {
   "attachments": {},
   "cell_type": "markdown",
   "metadata": {},
   "source": [
    "# Variables y Tipos"
   ]
  },
  {
   "attachments": {},
   "cell_type": "markdown",
   "metadata": {},
   "source": [
    "## Tipos\n",
    "\n",
    "En Python se tienen los siguientes tipos basicos de datos:\n",
    "\n",
    "* Los **números** se dividen en enteros (int), flotantes (float) y complejos, utilizados para operaciones numéricas. Los enteros pueden ser de cualquier tamaño, los flotantes representan valores decimales sin límites y los complejos tienen parte real e imaginaria (x + yj).\n",
    "\n",
    "* Las **cadenas o texto (strings)** son secuencias de caracteres y se utilizan para representar texto. Las cadenas se declaran utilizando comillas simples (''), comillas dobles (\"\") o comillas triples (\"\"\" \"\"\").\n",
    "\n",
    "* Los **booleanos** son *True* y *False*, y se utilizan en declaraciones condicionales (operadores condicionales que se utilizan son: == igual, > mayor, < menor, >= mayor o igual, <= menor o igual, != diferente). Estas condiciones se pueden combinar utilizando operadores lógicos (como and, or, not) y otros.\n",
    "* Las **fechas** se manejas agregando la librería *datetime* que incorpora los tipos de datos date, time y datetime para representar fechas y funciones para manejarlas.\n",
    "\n",
    "Se tienen los siguientes tipos avanzados de datos (todos son iterables por lo que se los puede recorrer para ver la informacion que contienen):\n",
    "\n",
    "* Los **diccionarios** se utilizan para almacenar pares clave-valor. Son colecciones ordenadas de datos y permiten recuperar los elementos en el orden en que se insertaron. Las claves son de tipo texto y deben ser únicas, los valores en cambio pueden ser de cualquier tipo de datos.\n",
    "\n",
    "* Las **listas** y **tuplas** se utilizan para almacenar secuencias de diferentes tipos de datos. Las listas se declaran utilizando corchetes ([]), mientras que las tuplas se declaran utilizando paréntesis (()).\n",
    "\n",
    "* Los **conjuntos** son colecciones desordenadas de valores de datos únicos. Los conjuntos se pueden inicializar con valores separados por comas y encerrados entre llaves ({}). Los conjuntos ignoran los valores repetidos y solo almacenan elementos únicos."
   ]
  },
  {
   "attachments": {},
   "cell_type": "markdown",
   "metadata": {},
   "source": [
    "transcribir el siguiente codigo:\n",
    "```py\n",
    "print (\"hola mundo!\")\n",
    "print (\"bienvenido \" * 4)\n",
    "print (\"\"\" introduccion\n",
    "al lenguaje de programacion\n",
    "python \"\"\")\n",
    "print (\"uno\", type (\"uno\"))\n",
    "print (2, type (2))\n",
    "print (3.5, type(3.5))\n",
    "print (True, type(True))\n",
    "```"
   ]
  },
  {
   "cell_type": "code",
   "execution_count": null,
   "metadata": {},
   "outputs": [],
   "source": []
  },
  {
   "attachments": {},
   "cell_type": "markdown",
   "metadata": {},
   "source": [
    "## ¿Qué es una variable?\n",
    "Una variable es un *contenedor* capaz de **almacenar información** como: texto, números, booleanos, etc."
   ]
  },
  {
   "attachments": {},
   "cell_type": "markdown",
   "metadata": {},
   "source": [
    "## Operaciones sobre variables\n",
    "Para declarar o crear una variable, solo tienes que darle un nombre, no se necesita utilizar una palabra reservada especial para declarar, para inicializar una variable (darle un valor inicial cuando la creamos), hay que utilizar el operador de asignación (\"=\") y para modificar su valor se utiliza tambien el operador de asignación.\n",
    "\n",
    "transcribir el siguiente codigo:\n",
    "```py\n",
    "numero = 10 # declaracion e inicializacion\n",
    "numero = 15 # modificacion\n",
    "numero += 5 # modificacion\n",
    "print (numero)\n",
    "```"
   ]
  },
  {
   "cell_type": "code",
   "execution_count": null,
   "metadata": {},
   "outputs": [],
   "source": []
  },
  {
   "attachments": {},
   "cell_type": "markdown",
   "metadata": {},
   "source": [
    "### Nombres y notaciones\n",
    "Los nombres es un elemento fundamental para la declaracion de variables y funciones (que se vera mas adelante) lo que se debe tomar en cuenta es que para los nombre se debe seguir las siguientes reglas:\n",
    "* empezar con una letra\n",
    "* no se puede colocar espacios o caracteres especiales\n",
    "* se puede incluir numero\n",
    "* se puede seguir las notacion:\n",
    "\n",
    "| notacion    | ejemplo                |\n",
    "|-------------|------------------------|\n",
    "| snake case  | valor_nuevo_calculado  |\n",
    "| camel case  | valorNuevoCalculado    |\n",
    "\n",
    "transcribir el siguiente codigo:\n",
    "\n",
    "```py\n",
    "animal = \"feliz\" #variable de tipo texto denominado\n",
    "numeroUno = 2 # variable de tipo numero entero\n",
    "numero_dos = 13.2 # variable de tipo numero real\n",
    "TrabajoDesdeCasa = True # variable de tipo booleano\n",
    "```"
   ]
  },
  {
   "cell_type": "code",
   "execution_count": null,
   "metadata": {},
   "outputs": [],
   "source": []
  },
  {
   "attachments": {},
   "cell_type": "markdown",
   "metadata": {},
   "source": [
    "### Uso de mayusculas y minusculas\n",
    "En python se hace diferencia entre el uso de mayusculas y minusculas en los nombres de variables, por lo que si esta escrito con mayuscula en una linea de codigo y esta con minuscula en otra linea se considera que son dos variables diferentes.\n",
    "\n",
    "transcribir el siguiente codigo:\n",
    "```py\n",
    "nombrecurso = \"python A\"\n",
    "nombreCurso = \"python B\"\n",
    "NombreCurso = \"python C\"\n",
    "NOMBRE_CURSO = \"hola mundo 1\"\n",
    "NoMbRe_CuRsO = \"hola mundo 2\"\n",
    "nombre_curso = \"hola mundo 3\"\n",
    "print (nombrecurso,nombreCurso,NombreCurso)\n",
    "print (NOMBRE_CURSO,NoMbRe_CuRsO,nombre_curso)\n",
    "```\n"
   ]
  },
  {
   "cell_type": "code",
   "execution_count": null,
   "metadata": {},
   "outputs": [],
   "source": []
  }
 ],
 "metadata": {
  "kernelspec": {
   "display_name": "Python 3",
   "language": "python",
   "name": "python3"
  },
  "language_info": {
   "codemirror_mode": {
    "name": "ipython",
    "version": 3
   },
   "file_extension": ".py",
   "mimetype": "text/x-python",
   "name": "python",
   "nbconvert_exporter": "python",
   "pygments_lexer": "ipython3",
   "version": "3.11.3"
  },
  "orig_nbformat": 4
 },
 "nbformat": 4,
 "nbformat_minor": 2
}
