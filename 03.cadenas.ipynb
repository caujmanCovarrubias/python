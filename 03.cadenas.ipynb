{
 "cells": [
  {
   "attachments": {},
   "cell_type": "markdown",
   "metadata": {},
   "source": [
    "# Variables de tipo cadena"
   ]
  },
  {
   "attachments": {},
   "cell_type": "markdown",
   "metadata": {},
   "source": [
    "Este tipo de variables se usan para manejar textos de diferente longitud."
   ]
  },
  {
   "attachments": {},
   "cell_type": "markdown",
   "metadata": {},
   "source": [
    "para poder asignar valores se lo hace con el operador de asignacion y el texto incluido dentro de *comillas simple, dobles o triples dobles comillas*.\n",
    "\n",
    "Transcribir el siguiente codigo y analizar el resultado:\n"
   ]
  },
  {
   "cell_type": "code",
   "execution_count": 3,
   "metadata": {},
   "outputs": [
    {
     "name": "stdout",
     "output_type": "stream",
     "text": [
      "curso de python inicial \n",
      "  este curso contempla todo lo\n",
      "que se necesita aprender para\n",
      "un trabajo como programador\n",
      "\n"
     ]
    }
   ],
   "source": [
    "nombre_curso = \"curso de python\"\n",
    "nivel_curso = 'inicial'\n",
    "descripcion_curso = \"\"\"\n",
    "  este curso contempla todo lo\n",
    "que se necesita aprender para\n",
    "un trabajo como programador\n",
    "\"\"\"\n",
    "print(nombre_curso,nivel_curso,descripcion_curso)"
   ]
  },
  {
   "attachments": {},
   "cell_type": "markdown",
   "metadata": {},
   "source": [
    "Para poder determinar el tamano de un texto se identifica con la funcion len, y para recuperar parte del texto de *la izquierda, la derecha o el medio* se utiliza conchetes y los dos puntos para indicar el inicio y el fin, adicionalmente se puede recuperar solo una letra del texto colocando un valor positivo desde el inicio y con un valor negativo desde el final.\n",
    "\n",
    "Transcribir el siguiente codigo y analizar el resultado:"
   ]
  },
  {
   "cell_type": "code",
   "execution_count": 5,
   "metadata": {},
   "outputs": [
    {
     "name": "stdout",
     "output_type": "stream",
     "text": [
      "15\n",
      "c\n",
      "s\n",
      "curso de\n",
      "python\n",
      "curso\n",
      "curso de python\n",
      "n\n",
      "y\n"
     ]
    }
   ],
   "source": [
    "nombre_curso = \"curso de python\"\n",
    "print (len(nombre_curso))\n",
    "print (nombre_curso[0])\n",
    "print (nombre_curso[3])\n",
    "print (nombre_curso[0:8])\n",
    "print (nombre_curso[9:])\n",
    "print (nombre_curso[:5])\n",
    "print (nombre_curso[:])\n",
    "print (nombre_curso[-1])\n",
    "print (nombre_curso[-5])"
   ]
  },
  {
   "attachments": {},
   "cell_type": "markdown",
   "metadata": {},
   "source": [
    "En python para poder concatenar texto o unir texto se tienen varias opciones, primero esta el operador mas, luego tenemos los textos f con comillas simples, dobles o dobles triples, el resultado con el metodo de format es similar a las dos anteriores opciones.\n",
    "\n",
    "Transcribir el siguiente codigo y analizar el resultado:"
   ]
  },
  {
   "cell_type": "code",
   "execution_count": 6,
   "metadata": {},
   "outputs": [
    {
     "name": "stdout",
     "output_type": "stream",
     "text": [
      "Juan Guzman\n",
      "Juan Guzman\n",
      "el nombre es: Juan Guzman\n",
      "nombre: J 7\n"
     ]
    }
   ],
   "source": [
    "nombres = \"Juan\"\n",
    "apellidos = \"Guzman\"\n",
    "nombre_completo = nombres + \" \" + apellidos\n",
    "print (nombre_completo)\n",
    "nombre_completo = f\"{nombres} {apellidos}\"\n",
    "print (nombre_completo)\n",
    "nombre_completo = \"el nombre es: {} {}\".format (nombres, apellidos)\n",
    "print (nombre_completo)\n",
    "nombre_completo = f'nombre: {nombres[0]} {2+5}'\n",
    "print (nombre_completo)"
   ]
  },
  {
   "attachments": {},
   "cell_type": "markdown",
   "metadata": {},
   "source": [
    "En python se dispone tanto de funciones y metodos para poder procesar los textos con diferentes contextos, en esto se puede opservar que se puede modificar el texto a mayusculas, minusculas titulo (el inicio del texto en mayuscula) y el formato nombre propio(cada inicio de palabra en mayusculas).\n",
    "\n",
    "Se puede verificar si el texto escrito se puede considerar numero, strip permite quitar los espacios de la izquierda, derecha o ambos.\n",
    "\n",
    "Find permite encontrar un texto dentro de otro y replace cambia un texto por otro. In hace una verificacion si un texto esta presente dentro de otro dando como resultado True o False\n",
    "\n",
    "Transcribir el siguiente codigo y analizar el resultado:"
   ]
  },
  {
   "cell_type": "code",
   "execution_count": 8,
   "metadata": {},
   "outputs": [
    {
     "name": "stdout",
     "output_type": "stream",
     "text": [
      "15\n",
      "CURSO DE PYTHON\n",
      "curso de python\n",
      "Curso de python\n",
      "Curso De Python\n"
     ]
    }
   ],
   "source": [
    "nombre_curso = \"curso de python\"\n",
    "print(len(nombre_curso))\n",
    "print (nombre_curso.upper())\n",
    "print (nombre_curso.lower())\n",
    "print (nombre_curso.capitalize())\n",
    "print (nombre_curso.title())"
   ]
  },
  {
   "cell_type": "code",
   "execution_count": 9,
   "metadata": {},
   "outputs": [
    {
     "name": "stdout",
     "output_type": "stream",
     "text": [
      "False\n",
      "curso de python\n",
      "curso de python      \n",
      "    curso de python\n",
      "Curso de python\n"
     ]
    }
   ],
   "source": [
    "nombre_curso = \"    curso de python      \"\n",
    "print (nombre_curso.isnumeric())\n",
    "print (nombre_curso.strip())\n",
    "print (nombre_curso.lstrip())\n",
    "print (nombre_curso.rstrip())\n",
    "print (nombre_curso.strip().capitalize())"
   ]
  },
  {
   "cell_type": "code",
   "execution_count": 10,
   "metadata": {},
   "outputs": [
    {
     "name": "stdout",
     "output_type": "stream",
     "text": [
      "9\n",
      "-1\n",
      "curso de python\n",
      "True\n",
      "False\n"
     ]
    }
   ],
   "source": [
    "nombre_curso = \"curso DE python\"\n",
    "print (nombre_curso.find(\"py\"))\n",
    "print (nombre_curso.find(\"de\")) # -1\n",
    "print (nombre_curso.replace(\" DE \",\" de \"))\n",
    "print (\"DE\" in nombre_curso)\n",
    "print (\"DE\" not in nombre_curso)\n"
   ]
  },
  {
   "attachments": {},
   "cell_type": "markdown",
   "metadata": {},
   "source": [
    "La funcion **chr()** *permite recuperar el caracter equivalente a un numero a partir de la tabla de codigo ASCII* y la funcion **ord()** *permite dar el numero equivalente al caracter de la tabla de codigo ASCII*.\n",
    "\n",
    "Transcribir el siguiente codigo y analizar el resultado:"
   ]
  },
  {
   "cell_type": "code",
   "execution_count": 15,
   "metadata": {},
   "outputs": [
    {
     "name": "stdout",
     "output_type": "stream",
     "text": [
      "codigos ASCII  ord 0:99  ord 3:115  ord -1:110  ord -5:121 \n",
      "texto chr 65 A chr 66 B chr 97 a chr 98 b \n"
     ]
    }
   ],
   "source": [
    "nombre_curso = \"curso de python\"\n",
    "codificado = \"\"\n",
    "codificado = f'{codificado} ord 0:{ord(nombre_curso[0])} '\n",
    "codificado = f'{codificado} ord 3:{ord(nombre_curso[3])} '\n",
    "codificado = f'{codificado} ord -1:{ord(nombre_curso[-1])} '\n",
    "codificado = f'{codificado} ord -5:{ord(nombre_curso[-5])} '\n",
    "print (f\"codigos ASCII {codificado}\")\n",
    "descodificado = \"\"\n",
    "descodificado += \"chr 65 \" + chr(65) + \" \"\n",
    "descodificado += \"chr 66 \" + chr(66) + \" \"\n",
    "descodificado += \"chr 97 \" + chr(97) + \" \"\n",
    "descodificado += \"chr 98 \" + chr(98) + \" \"\n",
    "print (f'texto {descodificado}')"
   ]
  },
  {
   "attachments": {},
   "cell_type": "markdown",
   "metadata": {},
   "source": [
    "Las secuencias de escape, te permiten incluir caracteres especiales en las cadenas. Para ello, basta con añadir una barra invertida \\ antes del carácter que se va a colocar.\n",
    "\n",
    "Transcribir el siguiente codigo y analizar el resultado:"
   ]
  },
  {
   "cell_type": "code",
   "execution_count": 17,
   "metadata": {},
   "outputs": [
    {
     "name": "stdout",
     "output_type": "stream",
     "text": [
      "'Curso de \\Programacion\\ '\n",
      "\" Curso de \n",
      " Programacion \"\n",
      "'Curso de Programacion'\n"
     ]
    }
   ],
   "source": [
    "nombre_curso = \"\\'Curso de \\\\Programacion\\\\ \\'\"\n",
    "print(nombre_curso)\n",
    "nombre_curso = \"\\\" Curso de \\n Programacion \\\"\"\n",
    "print (nombre_curso)\n",
    "nombre_curso = \"'Curso de Programacion'\"\n",
    "print (nombre_curso)"
   ]
  }
 ],
 "metadata": {
  "kernelspec": {
   "display_name": "Python 3",
   "language": "python",
   "name": "python3"
  },
  "language_info": {
   "codemirror_mode": {
    "name": "ipython",
    "version": 3
   },
   "file_extension": ".py",
   "mimetype": "text/x-python",
   "name": "python",
   "nbconvert_exporter": "python",
   "pygments_lexer": "ipython3",
   "version": "3.11.3"
  },
  "orig_nbformat": 4
 },
 "nbformat": 4,
 "nbformat_minor": 2
}
