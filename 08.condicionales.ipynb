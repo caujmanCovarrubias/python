{
 "cells": [
  {
   "attachments": {},
   "cell_type": "markdown",
   "metadata": {},
   "source": [
    "# Condicionales (estructura de condicion)\n"
   ]
  },
  {
   "attachments": {},
   "cell_type": "markdown",
   "metadata": {},
   "source": [
    "### Operadores de comparacion\n",
    "Las comparaciones también dan como resultado valores booleanos.\n",
    "\n",
    "Transcribir el siguiente codigo:"
   ]
  },
  {
   "cell_type": "code",
   "execution_count": 7,
   "metadata": {},
   "outputs": [
    {
     "name": "stdout",
     "output_type": "stream",
     "text": [
      "False\n",
      "True\n",
      "False\n",
      "True\n",
      "False\n",
      "False\n",
      "True\n",
      "False\n",
      "True\n",
      "False\n"
     ]
    }
   ],
   "source": [
    "print (1 > 2)\n",
    "print (1 < 2)\n",
    "print (4 - 2 <= 1)\n",
    "print (2 >= 1 + 1)\n",
    "print (2 == 1)\n",
    "print (6 / 2 != 3)\n",
    "print (4 == 3 + 1 > 2)\n",
    "print (2 != 1 + 1 > 0)\n",
    "print (4 == 3 + 1 and 3 + 1 > 2)\n",
    "print (2 != 1 + 1 and 1 + 1 > 0)"
   ]
  },
  {
   "attachments": {},
   "cell_type": "markdown",
   "metadata": {},
   "source": [
    "### Operadores lógicos\n",
    "Los operadores lógicos son unas operaciones que trabajan con valores booleanos.\n",
    "\n",
    "* **and**: *\"y\" lógico*. Este operador da como resultado True si y sólo si sus dos operandos son True.\n",
    "* **or**: *\"o\" lógico*. Este operador da como resultado True si algún operando es True.\n",
    "* **xor**: *\"o\" exclusivo*. En el lenguaje cotidiano, el \"o\" se utiliza a menudo en situaciones en las que sólo puede darse una de las dos alternativas. Por ejemplo, en un menú de restaurante se puede elegir \"postre o café\", pero no las dos cosas (salvo que se pague aparte, claro). En lógica, ese tipo de \"o\" se denomina \"o exclusivo\" (xor).\n",
    "* **not**: *negación*. Este operador da como resultado True si y sólo si su argumento es False.\n",
    "\n",
    "#### Tabla de verdad del operador **and**\n",
    "| p     | q     | p and q  |\n",
    "|-------|-------|----------|\n",
    "| True  | True  | True     |\n",
    "| True  | False | False    |\n",
    "| False | True  | False    |\n",
    "| False | False | False    |\n",
    "#### Tabla de verdad del operador **or**\n",
    "| p     | q     | p or q   |\n",
    "|-------|-------|----------|\n",
    "| True  | True  | True     |\n",
    "| True  | False | True     |\n",
    "| False | True  | True     |\n",
    "| False | False | False    |\n",
    "#### Tabla de verdad del operador **not**\n",
    "| p     | not p  |\n",
    "|-------|--------|\n",
    "| True  | False  |\n",
    "| False | True   |\n",
    "\n",
    "### Expresiones compuestas\n",
    "Si no se está acostumbrado a evaluar expresiones lógicas compuestas, se recomienda utilizar paréntesis para asegurar el orden de las operaciones. Al componer expresiones más complejas hay que tener en cuenta que Python evalúa primero los not, luego los and y por último los or, como puede comprobarse en los ejemplos siguientes:\n",
    "\n",
    "El operador not se evalúa antes que el operador and, el operador not se evalúa antes que el operador or, el operador and se evalúa antes que el operador or. Python permite encadenar varias comparaciones y el resultado será verdadero si y sólo si todas las comparaciones lo son. Una alternativa a encadenar comparaciones, es combinar mediante operadores lógicos and.\n",
    "\n",
    "Transcribir el siguiente codigo:"
   ]
  },
  {
   "cell_type": "code",
   "execution_count": 16,
   "metadata": {},
   "outputs": [
    {
     "name": "stdout",
     "output_type": "stream",
     "text": [
      "True\n",
      "False\n",
      "False\n",
      "True\n",
      "False\n",
      "False\n",
      "True\n",
      "True\n",
      "False\n"
     ]
    }
   ],
   "source": [
    "print (True and True)\n",
    "print (True and False)\n",
    "print (False or False)\n",
    "print (not False)\n",
    "\n",
    "print (not True and False)\n",
    "print ((not True) and False)\n",
    "print (not (True and False))\n",
    "print (False and True or True)\n",
    "print (False and (True or True))\n"
   ]
  },
  {
   "attachments": {},
   "cell_type": "markdown",
   "metadata": {},
   "source": [
    "# estructura if\n",
    "\n",
    "La sentencia \"if-else\" en Python es una estructura que te permite controlar de manera clara y compacta el flujo lógico de un programa. Con esta sentencia, puedes ejecutar un conjunto de código cuando se cumple una condición específica y otro conjunto de código cuando la condición no se cumple.\n",
    "\n",
    "La palabra clave \"if\" marca el inicio del condicional, seguida de una condición que se evalúa como verdadera o falsa. Si la condición es verdadera, se ejecuta el bloque de código indentado correspondiente. Si la condición es falsa, ese bloque de código se omite. Para ejecutar código alternativo cuando la condición no se cumple, se utiliza la sentencia \"else\". El bloque de código después de \"else\" se ejecuta solo si la condición del \"if\" es falsa. Es importante tener en cuenta que el código después de \"else\" también debe estar indentado correctamente.\n",
    "\n",
    "Si necesitas más de dos opciones, puedes utilizar la sentencia \"elif\". La sintaxis básica es similar a la del \"if\":\n",
    "\n",
    "```py\n",
    "if primera_condicion:\n",
    "    ejecutar sentencia\n",
    "elif segunda_condicion:\n",
    "    ejecutar sentencia\n",
    "else:\n",
    "    ejecutar sentencia si todas las condiciones son falsas\n",
    "```\n",
    "Puedes usar múltiples sentencias \"elif\" para tener más opciones. El bloque de código correspondiente a la primera condición verdadera se ejecutará, y si ninguna de las condiciones es verdadera, se ejecutará el bloque de código después de \"else\". Es fundamental tener cuidado con el orden en el que se escriben las sentencias \"elif\", ya que se evalúan de arriba hacia abajo y solo se ejecutará el bloque correspondiente a la primera condición verdadera.\n",
    "\n",
    "La sentencia \"if-else\" en Python es una herramienta poderosa para tomar decisiones en un programa y ejecutar diferentes acciones según las circunstancias. Al utilizarla de manera adecuada, puedes controlar el flujo de ejecución de tu programa en función de condiciones específicas. Esto te brinda la flexibilidad necesaria para adaptar el comportamiento de tu programa a diferentes situaciones y optimizar su funcionamiento. Aprovecha el potencial de la sentencia \"if-else\" para crear programas más dinámicos y efectivos.\n",
    "\n",
    "Transcribir el siguiente codigo:"
   ]
  },
  {
   "cell_type": "code",
   "execution_count": 17,
   "metadata": {},
   "outputs": [
    {
     "name": "stdout",
     "output_type": "stream",
     "text": [
      "es menor\n"
     ]
    }
   ],
   "source": [
    "eda = 15\n",
    "if eda > 17:\n",
    "    men = \"es mayor\"\n",
    "else:\n",
    "    men = \"es menor\"\n",
    "print (men)\n",
    "\n",
    "eda = 19\n",
    "men = \"es mayor\" if eda > 17 else \"es menor\""
   ]
  },
  {
   "attachments": {},
   "cell_type": "markdown",
   "metadata": {},
   "source": [
    "### Condicionales con operadores logicos y de comparacion\n",
    "\n",
    "Transcribir el siguiente codigo:"
   ]
  },
  {
   "cell_type": "code",
   "execution_count": 20,
   "metadata": {},
   "outputs": [
    {
     "name": "stdout",
     "output_type": "stream",
     "text": [
      "puede avanzar 1\n",
      "puede avanzar 4\n"
     ]
    }
   ],
   "source": [
    "gas = True\n",
    "encendido = True\n",
    "if gas and encendido:\n",
    "    print (\"puede avanzar 1\")\n",
    "\n",
    "gas = True\n",
    "encendido = False\n",
    "if gas and encendido:\n",
    "    print (\"puede avanzar 2\")\n",
    "\n",
    "gas = False\n",
    "encendido = False\n",
    "edad = 18\n",
    "if gas and encendido and edad > 17:\n",
    "    print (\"puede avanzar 3\")\n",
    "\n",
    "gas = False\n",
    "encendido =  False\n",
    "eda = 18\n",
    "if gas and encendido or edad > 17:\n",
    "    print (\"puede avanzar 4\")"
   ]
  },
  {
   "attachments": {},
   "cell_type": "markdown",
   "metadata": {},
   "source": [
    "### Condicionales con varias partes entre if, elif y else\n",
    "\n",
    "Transcribir el siguiente codigo:"
   ]
  },
  {
   "cell_type": "code",
   "execution_count": 25,
   "metadata": {},
   "outputs": [
    {
     "name": "stdout",
     "output_type": "stream",
     "text": [
      "puede ver la pelicula con un super descuento\n",
      "listo\n"
     ]
    }
   ],
   "source": [
    "edad = 70\n",
    "\n",
    "if edad > 65:\n",
    "    print (\"puede ver la pelicula con un super descuento\")\n",
    "elif edad > 50:\n",
    "    print (\"puede ver la pelicula con un descuento\")\n",
    "elif edad > 17:\n",
    "    print (\"puede ver la pelicula\")\n",
    "else:\n",
    "    print (\"no puede ingresar\")\n",
    "    print (\"ve a otro lado..\")\n",
    "print (\"listo\")\n",
    "\n",
    "if edad>=20 and edad <= 50: # 20 <= edad <= 50\n",
    "    print (\"hay un descuento con las bebidas\")"
   ]
  }
 ],
 "metadata": {
  "kernelspec": {
   "display_name": "Python 3",
   "language": "python",
   "name": "python3"
  },
  "language_info": {
   "codemirror_mode": {
    "name": "ipython",
    "version": 3
   },
   "file_extension": ".py",
   "mimetype": "text/x-python",
   "name": "python",
   "nbconvert_exporter": "python",
   "pygments_lexer": "ipython3",
   "version": "3.11.3"
  },
  "orig_nbformat": 4
 },
 "nbformat": 4,
 "nbformat_minor": 2
}
