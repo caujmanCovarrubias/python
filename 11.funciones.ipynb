{
 "cells": [
  {
   "attachments": {},
   "cell_type": "markdown",
   "metadata": {},
   "source": [
    "# Funciones"
   ]
  },
  {
   "attachments": {},
   "cell_type": "markdown",
   "metadata": {},
   "source": [
    "En Python, una función es un bloque de código reutilizable que puede ejecutarse varias veces en un programa. Las funciones permiten crear soluciones modulares y aplicarlas a problemas complejos.\n",
    "\n",
    "Aunque Python ya proporciona muchas funciones integradas, como print() y len(), también puedes definir tus propias funciones para utilizar en tus proyectos. Una ventaja clave de usar funciones es que reducen la cantidad total de líneas de código en un proyecto, lo que lo hace más legible y facilita la depuración.\n",
    "\n",
    "La sintaxis para definir una función en Python incluye los siguientes elementos:\n",
    "\n",
    "* La palabra clave \"def\".\n",
    "* Un nombre para la función.\n",
    "* Paréntesis '()' que pueden contener parámetros de entrada (opcionales).\n",
    "* Dos puntos ':'.\n",
    "* Un bloque de código a ejecutar.\n",
    "* Una declaración de retorno (opcional).\n",
    "\n",
    "Las funciones se pueden llamar simplemente utilizando su nombre, lo que permite reutilizar el código de manera elegante sin tener que volver a escribirlo. Esto mejora la legibilidad, facilita la depuración y reduce los errores. Puedes asignar una función a una variable y utilizar esa variable como si fuera una función, ya que las funciones son objetos en Python.\n",
    "\n",
    "Al llamar a una función, debes proporcionar el mismo número de argumentos que se especificaron en su definición. El bloque de código de una función incluye todas las declaraciones con sangría dentro de la función. Las variables definidas dentro de una función solo existen dentro del ámbito de esa función.\n",
    "\n",
    "El intérprete de Python solo interpreta el bloque de código de una función cuando se llama a esa función, no cuando se define. Por lo tanto, cualquier error en la definición de una función solo se detectará cuando se llame a dicha función."
   ]
  },
  {
   "cell_type": "code",
   "execution_count": 5,
   "metadata": {},
   "outputs": [
    {
     "name": "stdout",
     "output_type": "stream",
     "text": [
      "15\n"
     ]
    }
   ],
   "source": [
    "def suma (a,b = 5):\n",
    "    return (a + b)\n",
    "\n",
    "c = suma (3)\n",
    "print (suma (7,c))"
   ]
  },
  {
   "cell_type": "code",
   "execution_count": 7,
   "metadata": {},
   "outputs": [
    {
     "name": "stdout",
     "output_type": "stream",
     "text": [
      "14\n",
      "5\n",
      "25\n"
     ]
    }
   ],
   "source": [
    "def suma(*numeros):\n",
    "    resultado = 0\n",
    "    for numero in numeros:\n",
    "        resultado += numero\n",
    "    return (resultado)\n",
    "\n",
    "print (suma(2,5,7))\n",
    "print (suma(2,3))\n",
    "print (suma(2,8,7,5,3))"
   ]
  },
  {
   "cell_type": "code",
   "execution_count": 12,
   "metadata": {},
   "outputs": [
    {
     "name": "stdout",
     "output_type": "stream",
     "text": [
      "23 Iphone esto es un celular Iphone\n"
     ]
    }
   ],
   "source": [
    "def obtener_producto(**datos):\n",
    "    print (datos['codigo'],datos['nombre'],datos['descripcion'])\n",
    "\n",
    "obtener_producto(descripcion='esto es un celular Iphone',nombre='Iphone', codigo = \"23\")"
   ]
  }
 ],
 "metadata": {
  "kernelspec": {
   "display_name": "Python 3",
   "language": "python",
   "name": "python3"
  },
  "language_info": {
   "codemirror_mode": {
    "name": "ipython",
    "version": 3
   },
   "file_extension": ".py",
   "mimetype": "text/x-python",
   "name": "python",
   "nbconvert_exporter": "python",
   "pygments_lexer": "ipython3",
   "version": "3.11.3"
  },
  "orig_nbformat": 4
 },
 "nbformat": 4,
 "nbformat_minor": 2
}
