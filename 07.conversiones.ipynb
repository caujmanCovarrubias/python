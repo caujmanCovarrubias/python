{
 "cells": [
  {
   "attachments": {},
   "cell_type": "markdown",
   "metadata": {},
   "source": [
    "# conversion entre tipos de datos (Casting)\n"
   ]
  },
  {
   "attachments": {},
   "cell_type": "markdown",
   "metadata": {},
   "source": [
    "Python siempre determina el tipo de datos automáticamente, es decir no se le tienes que decir que tipo de dato es. Si quieres imprimir números, a menudo necesitarás un casting. ¿Qué pasa si tenemos texto que queremos almacenar como número? Se tiene emitimos dos variables con la cadena de datos al tipo de datos entero y flotante.\n",
    "\n",
    "Transcribir el siguiente codigo:"
   ]
  },
  {
   "cell_type": "code",
   "execution_count": 2,
   "metadata": {},
   "outputs": [
    {
     "name": "stdout",
     "output_type": "stream",
     "text": [
      "el valor del texto es hola\n",
      "el valor del numero es 6\n",
      "el valor del numero es 4.4567\n",
      "el valor del numero es 26.672354\n"
     ]
    }
   ],
   "source": [
    "num1 = 6\n",
    "num2 = 4.4567\n",
    "cad2 = \"hola\"\n",
    "print (\"el valor del texto es \" + cad2)\n",
    "print (\"el valor del numero es \" + str(num1))\n",
    "print (\"el valor del numero es \" + str(num2))\n",
    "cad3 = \"15\"\n",
    "cad4 = \"11.672354\"\n",
    "num3 = int(cad3) + float(cad4)\n",
    "print (\"el valor del numero es \" + str(num3))"
   ]
  },
  {
   "attachments": {},
   "cell_type": "markdown",
   "metadata": {},
   "source": [
    "### funciones de conversión entre tipos de datos\n",
    "Para convertir entre tipos de datos puede utilizar:\n",
    "* **int (x)** Convierte x en un entero\n",
    "* **long (x)** Convierte x en un entero largo\n",
    "* **float (x)** Convierte x en un número de punto flotante\n",
    "* **str (x)** Convierte x a una cadena. x puede ser del tipo float. entero o largo\n",
    "* **hex (x)** Convierte x entero en una cadena hexadecimal\n",
    "* **chr (x)** Convierte x entero a un caracter\n",
    "* **ord (x)** Convierte el carácter x en un entero\n",
    "\n",
    "### Convertir entre enteros y flotantes\n",
    "Transcribir el siguiente codigo:\n"
   ]
  },
  {
   "cell_type": "code",
   "execution_count": 3,
   "metadata": {},
   "outputs": [
    {
     "name": "stdout",
     "output_type": "stream",
     "text": [
      "57.0\n",
      "390\n",
      "191\n",
      "2.5\n"
     ]
    }
   ],
   "source": [
    "num1 = 57\n",
    "num2 = 191.8\n",
    "print (float(num1))\n",
    "print (int(390.2))\n",
    "print (int(num2))\n",
    "print (5 / 2)"
   ]
  },
  {
   "attachments": {},
   "cell_type": "markdown",
   "metadata": {},
   "source": [
    "### Convertir entre números y cadenas\n",
    "Podemos convertir números en cadenas usando el método str(). Colocaremos un número o una variable en los paréntesis del método, y luego ese valor numérico se convertirá en un valor de cadena. Primero, veamos primero cómo convertir enteros. Para convertir el entero 12 a un valor de cadena, puede colocar 12 en el método str(). Las cadenas se pueden convertir en números utilizando los métodos int() y float(). Si su cadena no tiene posiciones decimales, probablemente querrá convertirla en un entero utilizando el método int(). Utilizaremos el ejemplo del usuario Sammy realizando un seguimiento de las líneas de código escritas cada día. Es posible que queramos manipular esos valores con cálculos matemáticos para proporcionar una respuesta más interesante para el usuario, pero estos valores se almacenan actualmente en cadenas. En este caso, utilizar el operando + con dos cadenas es una operación válida, pero se concatenarán dos cadenas en lugar de sumarse dos valores numéricos. Por lo tanto, nuestro resultado se ve inusual, ya que solo coloca los dos valores juntos. Queremos convertir estas cadenas en flotantes antes de realizar cualquier cálculo matemático con el método float():\n",
    "\n",
    "Transcribir el siguiente codigo:"
   ]
  },
  {
   "cell_type": "code",
   "execution_count": 9,
   "metadata": {},
   "outputs": [
    {
     "name": "stdout",
     "output_type": "stream",
     "text": [
      "felicidades, sam! acabas de escribir 5 lineas de codigo en python\n",
      "58\n",
      "5569.83\n"
     ]
    }
   ],
   "source": [
    "usuario = \"sam\"\n",
    "lineas = 5\n",
    "print (\"felicidades, \" + usuario + \"! acabas de escribir \" + str(lineas) + \" lineas de codigo en python\")\n",
    "\n",
    "ayer = \"50\"\n",
    "hoy = \"108\"\n",
    "lineas = int(hoy) - int(ayer)\n",
    "print (lineas)\n",
    "\n",
    "totalPuntos = \"5524.53\"\n",
    "nuevosPuntos = \"45.30\"\n",
    "final = float(totalPuntos) + float(nuevosPuntos)\n",
    "print (final)"
   ]
  },
  {
   "attachments": {},
   "cell_type": "markdown",
   "metadata": {},
   "source": [
    "### Convertir a booleanos\n",
    "\n",
    "Una variable booleana es una variable que sólo puede tomar dos posibles valores: True (verdadero) o False (falso). En Python cualquier variable (en general, cualquier objeto) puede considerarse como una variable booleana. En general los elementos nulos o vacíos se consideran False y el resto se consideran True.\n",
    "Para comprobar si un elemento se considera True o False.\n",
    "\n",
    "Transcribir el siguiente codigo:"
   ]
  },
  {
   "cell_type": "code",
   "execution_count": 1,
   "metadata": {},
   "outputs": [
    {
     "name": "stdout",
     "output_type": "stream",
     "text": [
      "False\n",
      "True\n",
      "False\n",
      "True\n",
      "False\n"
     ]
    }
   ],
   "source": [
    "print (bool(\"\"))\n",
    "print (bool(\"0\"))\n",
    "print (bool(None))\n",
    "print (bool (\" \"))\n",
    "print (bool(0))"
   ]
  }
 ],
 "metadata": {
  "kernelspec": {
   "display_name": "Python 3",
   "language": "python",
   "name": "python3"
  },
  "language_info": {
   "codemirror_mode": {
    "name": "ipython",
    "version": 3
   },
   "file_extension": ".py",
   "mimetype": "text/x-python",
   "name": "python",
   "nbconvert_exporter": "python",
   "pygments_lexer": "ipython3",
   "version": "3.11.3"
  },
  "orig_nbformat": 4
 },
 "nbformat": 4,
 "nbformat_minor": 2
}
