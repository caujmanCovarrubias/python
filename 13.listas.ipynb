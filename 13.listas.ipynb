{
 "cells": [
  {
   "attachments": {},
   "cell_type": "markdown",
   "metadata": {},
   "source": [
    "# Listas"
   ]
  },
  {
   "attachments": {},
   "cell_type": "markdown",
   "metadata": {},
   "source": [
    "En Python, una lista es un tipo de dato nativo incorporado en el lenguaje de programación. Permite almacenar múltiples elementos y ofrece flexibilidad para manipularlos según tus necesidades. Antes de explorar su funcionalidad, es importante entender las características básicas de una lista y lo que puede hacer.\n",
    "\n",
    "Una lista en Python se caracteriza por lo siguiente:\n",
    "\n",
    "Ordenada: los elementos se encuentran indexados y se accede a ellos mediante su posición en la lista.\n",
    "Editable: es posible modificar, agregar o eliminar elementos de una lista.\n",
    "Dinámica: puede contener diferentes tipos de datos, incluyendo objetos y arrays multidimensionales.\n",
    "No única: permite tener elementos duplicados sin generar errores.\n",
    "Crear una lista en Python es sencillo y existen dos métodos principales. El primero es utilizando corchetes [ ] para definir los elementos. Por ejemplo, [1, 2, 3]. Las listas en Python son flexibles al mezclar diferentes tipos de datos. Pueden contener listas anidadas y objetos de cualquier tipo, como enteros, cadenas de texto, booleanos, entre otros.\n",
    "\n",
    "Algunas funciones relevantes para trabajar con listas incluyen len() para obtener la longitud de la lista y type() para verificar el tipo de dato. Los operadores nativos de Python brindan mayor interacción con las listas, como concatenar (+) para unir listas, usar el operador slice para acceder a un rango de elementos y el operador de asignación (=) para modificar valores individuales o la lista completa.\n",
    "\n",
    "Para agregar un elemento al final de una lista, se utiliza el método append(). Otro método común es index(), que devuelve el índice de un valor específico. Para eliminar elementos, se emplea el método remove() al indicar el valor a eliminar.\n",
    "\n",
    "El método list.sort() es un método incorporado que ordena una lista en su lugar, mientras que la función sorted() devuelve una nueva lista ordenada sin modificar la original. Ambos admiten un parámetro opcional reverse para realizar un orden descendente.\n",
    "\n",
    "Existen otros métodos útiles, como clear() para eliminar todos los elementos de la lista, copy() para crear una copia, count() para contar elementos con un valor específico, extend() para agregar elementos de otra lista, insert() para insertar un elemento en una posición dada, pop() para eliminar un elemento por su posición y reverse() para invertir el orden de la lista."
   ]
  },
  {
   "cell_type": "code",
   "execution_count": 13,
   "metadata": {},
   "outputs": [
    {
     "name": "stdout",
     "output_type": "stream",
     "text": [
      "[1, 2, 3]\n",
      "['a', 'b', 'c', 'd']\n",
      "['carlos', 'maria', 'felipe', 'jose']\n",
      "[True, False, True, False, False]\n",
      "[[0, 1], [1, 0]]\n"
     ]
    }
   ],
   "source": [
    "numeros = [1,2,3]\n",
    "print (numeros)\n",
    "letras = ['a','b','c','d']\n",
    "print (letras)\n",
    "palabras = ['carlos', 'maria', 'felipe', 'jose']\n",
    "print (palabras)\n",
    "logicos = [True, False, True, False, False]\n",
    "print (logicos)\n",
    "matriz = [[0,1],[1,0]]\n",
    "print (matriz)"
   ]
  },
  {
   "cell_type": "code",
   "execution_count": 16,
   "metadata": {},
   "outputs": [
    {
     "name": "stdout",
     "output_type": "stream",
     "text": [
      "[0, 0, 0, 0, 0, 0, 0, 0, 0, 0]\n",
      "[0, 1, 0, 1, 0, 1, 0, 1, 0, 1, 0, 1]\n",
      "[1, 3, 5, 7, 9]\n",
      "[0, 1, 2, 3, 4, 5, 6, 7, 8, 9, 10, 11, 12, 13, 14, 15, 16, 17, 18, 19]\n",
      "[1, 3, 5, 7, 9, 11, 13, 15, 17, 19]\n"
     ]
    }
   ],
   "source": [
    "ceros = [0] * 10\n",
    "print (ceros)\n",
    "ceros = [0,1] * 6\n",
    "print (ceros)\n",
    "rango = list (range(1,11,2))\n",
    "print (rango)\n",
    "rango = list (range(20))\n",
    "print (rango)\n",
    "rango = list(range(1,21))\n",
    "print (rango[::2])"
   ]
  },
  {
   "cell_type": "code",
   "execution_count": 19,
   "metadata": {},
   "outputs": [
    {
     "name": "stdout",
     "output_type": "stream",
     "text": [
      "['lobo', 'pelusa', 'pulga', 'copito', 'luan', 'tasha']\n",
      "tasha\n",
      "['bicho', 'mervin', 'pelusa', 'pulga', 'copito', 'luan', 'tasha', 'chanchito']\n",
      "['pelusa', 'pulga', 'luan', 'tasha']\n"
     ]
    }
   ],
   "source": [
    "mascotas = ['lobo','pelusa','pulga','copito','luan','tasha']\n",
    "print (mascotas)\n",
    "print (mascotas[5])\n",
    "\n",
    "mascotas[0] = 'bicho'\n",
    "mascotas.insert(1,'mervin')\n",
    "mascotas.append('chanchito')\n",
    "print (mascotas)\n",
    "\n",
    "mascotas.remove(\"copito\")\n",
    "mascotas.pop()\n",
    "mascotas.pop(1)\n",
    "del mascotas[0]\n",
    "print (mascotas)"
   ]
  },
  {
   "cell_type": "code",
   "execution_count": 20,
   "metadata": {},
   "outputs": [
    {
     "name": "stdout",
     "output_type": "stream",
     "text": [
      "['pelusa', 'pulga', 'copito']\n",
      "['lobo', 'pelusa']\n",
      "['copito', 'luan', 'tasha']\n",
      "tasha\n",
      "['lobo', 'pulga', 'luan']\n"
     ]
    }
   ],
   "source": [
    "mascotas = ['lobo','pelusa','pulga','copito','luan','tasha']\n",
    "print (mascotas[1:4])\n",
    "print (mascotas[:2])\n",
    "print (mascotas[3:])\n",
    "print (mascotas[-1])\n",
    "print (mascotas[::2])"
   ]
  },
  {
   "cell_type": "code",
   "execution_count": 22,
   "metadata": {},
   "outputs": [
    {
     "name": "stdout",
     "output_type": "stream",
     "text": [
      "lobo pelusa ['pulga', 'copito', 'luan'] tasha\n",
      "lobo\n",
      "pelusa\n",
      "pulga\n",
      "copito\n",
      "luan\n",
      "tasha\n",
      "0\n",
      "1\n",
      "2\n",
      "3\n",
      "4\n",
      "5\n",
      "0 lobo\n",
      "1 pelusa\n",
      "2 pulga\n",
      "3 copito\n",
      "4 luan\n",
      "5 tasha\n"
     ]
    }
   ],
   "source": [
    "mascotas = ['lobo','pelusa','pulga','copito','luan','tasha']\n",
    "\n",
    "primer, segundo, *otros, ultimo = mascotas\n",
    "print (primer, segundo,otros,ultimo)\n",
    "\n",
    "for mascota in mascotas:\n",
    "    print (mascota)\n",
    "\n",
    "for mascota in enumerate(mascotas):\n",
    "    print (mascota[0])\n",
    "\n",
    "for indice,mascota in enumerate(mascotas):\n",
    "    print (indice, mascota)"
   ]
  },
  {
   "cell_type": "code",
   "execution_count": 31,
   "metadata": {},
   "outputs": [
    {
     "name": "stdout",
     "output_type": "stream",
     "text": [
      "[2, 4, 1, 45, 75, 22]\n",
      "[1, 2, 4, 22, 45, 75]\n",
      "[75, 45, 22, 4, 2, 1]\n",
      "[['chanchito', 4], ['pulga', 5], ['tasha', 1], ['uniqua', 7]]\n",
      "[['tasha', 1], ['chanchito', 4], ['pulga', 5], ['uniqua', 7]]\n",
      "['tasha', 'chanchito', 'pulga', 'uniqua']\n",
      "[['pulga', 5], ['uniqua', 7]]\n"
     ]
    }
   ],
   "source": [
    "numeros = [2,4,1,45,75,22]\n",
    "print(numeros)\n",
    "numeros.sort()\n",
    "print(numeros)\n",
    "numeros.sort(reverse=True)\n",
    "print(numeros)\n",
    "\n",
    "usuarios = [['tasha',1],['chanchito',4],['pulga',5],['uniqua',7]]\n",
    "usuarios.sort()\n",
    "print (usuarios)\n",
    "usuarios.sort(key=lambda elemento: elemento[1])\n",
    "print (usuarios)\n",
    "nombres = list(map(lambda usuario: usuario[0], usuarios))\n",
    "print (nombres)\n",
    "nuevos = list(filter(lambda usuario:usuario[1]>4,usuarios))\n",
    "print (nuevos)\n"
   ]
  },
  {
   "cell_type": "code",
   "execution_count": null,
   "metadata": {},
   "outputs": [],
   "source": []
  }
 ],
 "metadata": {
  "kernelspec": {
   "display_name": "Python 3",
   "language": "python",
   "name": "python3"
  },
  "language_info": {
   "codemirror_mode": {
    "name": "ipython",
    "version": 3
   },
   "file_extension": ".py",
   "mimetype": "text/x-python",
   "name": "python",
   "nbconvert_exporter": "python",
   "pygments_lexer": "ipython3",
   "version": "3.11.3"
  },
  "orig_nbformat": 4
 },
 "nbformat": 4,
 "nbformat_minor": 2
}
