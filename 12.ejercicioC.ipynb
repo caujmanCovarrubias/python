{
 "cells": [
  {
   "attachments": {},
   "cell_type": "markdown",
   "metadata": {},
   "source": [
    "# Ejercicio C - Palindromo"
   ]
  },
  {
   "attachments": {},
   "cell_type": "markdown",
   "metadata": {},
   "source": [
    "realice el siguiente ejercicio en Python *(utilice las estructuras que se ha visto hasta el momento)*\n",
    "reciba un texto e indique si es palindromo la frase o la palabra. Para lo que se sugiere dividir el problema en partes utilizando funciones como quitarEspacios, revertirTexto, esPalindromo\n",
    "\n",
    "Algunos ejemplos para determinar se tiene: abba, reconocer, somos o no somos, isaac no ronca asi, anita lava la tina, luz azul, yo hago yoga hoy, ana lava lana, etc."
   ]
  },
  {
   "cell_type": "code",
   "execution_count": 1,
   "metadata": {},
   "outputs": [],
   "source": [
    "# quitar espacios\n",
    "def no_space(texto):\n",
    "    nuevo_texto = \"\"\n",
    "    for caracter in texto:\n",
    "        if (caracter != \" \"):\n",
    "            nuevo_texto += caracter\n",
    "    return nuevo_texto"
   ]
  },
  {
   "cell_type": "code",
   "execution_count": 2,
   "metadata": {},
   "outputs": [],
   "source": [
    "# revertir texto\n",
    "def reverse (texto):\n",
    "    texto_reves= \"\"\n",
    "    for caracter in texto:\n",
    "        texto_reves = caracter + texto_reves\n",
    "    return texto_reves"
   ]
  },
  {
   "cell_type": "code",
   "execution_count": 3,
   "metadata": {},
   "outputs": [],
   "source": [
    "def es_palindromo(texto):\n",
    "    texto = no_space(texto)\n",
    "    texto_al_reves = reverse(texto)\n",
    "    return (texto.lower() == texto_al_reves.lower())"
   ]
  },
  {
   "cell_type": "code",
   "execution_count": 4,
   "metadata": {},
   "outputs": [
    {
     "name": "stdout",
     "output_type": "stream",
     "text": [
      "True\n",
      "False\n",
      "True\n",
      "True\n"
     ]
    }
   ],
   "source": [
    "print (es_palindromo(\"abba\"))\n",
    "print (es_palindromo(\"hola mundo\"))\n",
    "print (es_palindromo(\"reconocer\"))\n",
    "print (es_palindromo(\"somos o no somos\"))"
   ]
  }
 ],
 "metadata": {
  "kernelspec": {
   "display_name": "Python 3",
   "language": "python",
   "name": "python3"
  },
  "language_info": {
   "codemirror_mode": {
    "name": "ipython",
    "version": 3
   },
   "file_extension": ".py",
   "mimetype": "text/x-python",
   "name": "python",
   "nbconvert_exporter": "python",
   "pygments_lexer": "ipython3",
   "version": "3.11.3"
  },
  "orig_nbformat": 4
 },
 "nbformat": 4,
 "nbformat_minor": 2
}
