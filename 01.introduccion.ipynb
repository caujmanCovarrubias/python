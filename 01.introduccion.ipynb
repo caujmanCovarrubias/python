{
 "cells": [
  {
   "attachments": {},
   "cell_type": "markdown",
   "metadata": {},
   "source": [
    "# Introduccion"
   ]
  },
  {
   "attachments": {},
   "cell_type": "markdown",
   "metadata": {},
   "source": [
    "## ¿Qué es Python?\n",
    "Python es un lenguaje de programación utilizado en aplicaciones y desarrollo de software, *la ciencia de datos* y el machine learning (ML). Se utiliza porque **es eficiente y fácil de aprender**. Python se puede descargar *gratis*, se integra bien a todos los tipos de sistemas y aumenta la velocidad del desarrollo."
   ]
  },
  {
   "attachments": {},
   "cell_type": "markdown",
   "metadata": {},
   "source": [
    "## ¿Qué beneficios ofrece Python?\n",
    "Los beneficios de Python incluyen los siguientes:\n",
    "* Se puede leer y comprender fácilmente los programas (sintaxis básica similar a la del inglés) \n",
    "* Se puede escribir un programa con menos líneas de código.\n",
    "* se cuenta con una gran biblioteca estándar\n",
    "* La comunidad activa incluye millones de desarrolladores alrededor del mundo\n",
    "* Hay muchos recursos útiles disponibles\n",
    "* Se puede trasladar a través de diferentes sistemas operativos"
   ]
  },
  {
   "attachments": {},
   "cell_type": "markdown",
   "metadata": {},
   "source": [
    "## ¿Cuáles son las características de Python?\n",
    "Las siguientes características lo hacen único son:\n",
    "\n",
    "1. interpretado\n",
    "2. fácil de utilizar\n",
    "3. tipeado dinámicamente\n",
    "4. alto nivel\n",
    "5. orientado a los objetos"
   ]
  },
  {
   "attachments": {},
   "cell_type": "markdown",
   "metadata": {},
   "source": [
    "## Instalacion\n",
    "\n",
    "- descargar e instalar *python*\n",
    "- descargar e instalar *VSCode*\n",
    "- verificar si esta instalado python, *colocar en una terminal (en caso de que no tenga abierta una terminal ingrese a menu **terminal - new terminal**)*:\n",
    "```\n",
    "python --version\n",
    "```\n",
    "- usar REPL en python, *colocar en una terminal (en caso de que no tenga abierta una terminal ingrese a menu **terminal - new terminal**)*, para salir de REPL presionar [crtl-Z]:\n",
    "```\n",
    "python\n",
    "```\n",
    "- instalar *jupyter notebooks*\n",
    "- habilitar *linting* (corrector de errores) - *pep8* (python enhancement proposal)"
   ]
  },
  {
   "attachments": {},
   "cell_type": "markdown",
   "metadata": {},
   "source": [
    "transcribir el siguiente codigo:\n",
    "```py\n",
    "print (\"hola mundo!\")\n",
    "# permite imprimir hola mundo en la ventana de comandos\n",
    "```"
   ]
  },
  {
   "cell_type": "code",
   "execution_count": null,
   "metadata": {},
   "outputs": [],
   "source": []
  },
  {
   "attachments": {},
   "cell_type": "markdown",
   "metadata": {},
   "source": [
    "transcribir el siguiente codigo:\n",
    "```py\n",
    "print (num)\n",
    "3 + \n",
    "```"
   ]
  },
  {
   "cell_type": "code",
   "execution_count": null,
   "metadata": {},
   "outputs": [],
   "source": []
  },
  {
   "attachments": {},
   "cell_type": "markdown",
   "metadata": {},
   "source": [
    "### Configuraciones adicionales\n",
    "* mostrar el menu para ejecutar comandos [ctrl-shift-P] seleccionar **format document**\n",
    "* ingresar a setting desde el engranaje en el lado izquierdo inferior de VSCode, buscar **format on save** y habilitarlo\n",
    "* ejecutar el codigo *triangulo*, para eso transcribir el siguiente codigo y ejecutar a continuacion:\n",
    "\n",
    "transcribir el siguiente codigo:\n",
    "```py\n",
    "print (4 + 5 * 2)\n",
    "# el resultado es 14 o 18?\n",
    "print ((10 - 2) / 2)\n",
    "# el resultado es 9 o 4?\n",
    "```"
   ]
  },
  {
   "cell_type": "code",
   "execution_count": 3,
   "metadata": {},
   "outputs": [
    {
     "name": "stdout",
     "output_type": "stream",
     "text": [
      "4.0\n"
     ]
    }
   ],
   "source": []
  },
  {
   "attachments": {},
   "cell_type": "markdown",
   "metadata": {},
   "source": [
    "## ¿Qué son los IDE de Python?\n",
    "Un entorno de desarrollo integrado *(IDE - Integrated Development Environment)* es un software que brinda a los desarrolladores las herramientas que necesitan para escribir, editar, probar y corregir código en un único lugar. \n",
    "\n",
    "### ¿Cuáles son los IDE de Python más conocidos?\n",
    "\n",
    "| Pycharm                    | VScode                     | SublimeText                     |\n",
    "|----------------------------|----------------------------| --------------------------------| \n",
    "| <img src=\"pycharm.jpeg\" /> | <img src=\"vscode.jpeg\" />  | <img src=\"sublimetext.jpeg\" />  |\n",
    "\n"
   ]
  },
  {
   "attachments": {},
   "cell_type": "markdown",
   "metadata": {},
   "source": [
    "## Implementaciones de Python\n",
    "Cuando hablamos de Python, a menudo nos referimos no solo al lenguaje de alto nivel sino también a la implementación. La implementación predeterminada del lenguaje de programación Python es **Cpython**. Como su nombre indica este ha sido escrito en lenguaje **C**, esta implementacion compila el código fuente en un código de intermedio, que es ejecutado por la **máquina virtual de Cpython** en lenguaje de maquina representado por 0s y 1s. (se debe entender el proceso en general mas que conocer los detalles de como se realiza)\n",
    "\n",
    "A continuacion se muestra como se realiza este proceso de forma grafica:\n",
    "<img src=\"VMpython.jpg\" /> "
   ]
  }
 ],
 "metadata": {
  "kernelspec": {
   "display_name": "Python 3",
   "language": "python",
   "name": "python3"
  },
  "language_info": {
   "codemirror_mode": {
    "name": "ipython",
    "version": 3
   },
   "file_extension": ".py",
   "mimetype": "text/x-python",
   "name": "python",
   "nbconvert_exporter": "python",
   "pygments_lexer": "ipython3",
   "version": "3.11.3"
  },
  "orig_nbformat": 4
 },
 "nbformat": 4,
 "nbformat_minor": 2
}
