{
 "cells": [
  {
   "attachments": {},
   "cell_type": "markdown",
   "metadata": {},
   "source": [
    "# Variables de tipo fecha"
   ]
  },
  {
   "attachments": {},
   "cell_type": "markdown",
   "metadata": {},
   "source": [
    "Para manejar fechas se suele utilizar la librería **datetime** que incorpora los tipos de datos *date, time y datetime* para representar fechas y funciones para manejarlas. Algunas de las operaciones más habituales que permite son:\n",
    "* Acceder a los distintos componentes de una fecha (año, mes, día, hora, minutos y segundos).\n",
    "* Convertir cadenas con formato de fecha en los tipos date, time o datetime.\n",
    "* Convertir fechas de los tipos date, time o datetime en cadenas formateadas de acuerdo a diferentes formatos de fechas.\n",
    "* Hacer aritmética de fechas (sumar o restar fechas).\n",
    "* Comparar fechas."
   ]
  },
  {
   "attachments": {},
   "cell_type": "markdown",
   "metadata": {},
   "source": [
    "## date, time y datetime\n",
    "* **date(año, mes, dia)** : Devuelve un objeto de tipo date que representa la fecha con el año, mes y dia indicados.\n",
    "* **time(hora, minutos, segundos, microsegundos)** : Devuelve un objeto de tipo time que representa un tiempo la hora, minutos, segundos y microsegundos indicados.\n",
    "* **datetime(año, mes, dia, hora, minutos, segundos, microsegundos)** : Devuelve un objeto de tipo datetime que representa una fecha y hora con el año, mes, dia, hora, minutos, segundos y microsegundos indicados.\n",
    "\n",
    "Transcribir el siguiente codigo:\n"
   ]
  },
  {
   "cell_type": "code",
   "execution_count": 4,
   "metadata": {},
   "outputs": [
    {
     "name": "stdout",
     "output_type": "stream",
     "text": [
      "2020-12-25\n",
      "13:30:05\n",
      "fecha y hora 0202-12-25 13:30:05\n",
      "fecha y hora 0202-12-25 13:30:05\n"
     ]
    }
   ],
   "source": [
    "import datetime\n",
    "\n",
    "print (datetime.date(2020,12,25))\n",
    "print (datetime.time(13,30,5))\n",
    "print (\"fecha y hora \" + str(datetime.datetime(202,12,25,13,30,5)))\n",
    "print (f\"fecha y hora {datetime.datetime(202,12,25,13,30,5)}\")\n"
   ]
  },
  {
   "attachments": {},
   "cell_type": "markdown",
   "metadata": {},
   "source": [
    "## componentes de una fecha\n",
    "* **date.today()** : Devuelve un objeto del tipo date la fecha del sistema en el momento en el que se ejecuta.\n",
    "* **time.now()** : Devuelve un objeto del tipo datetime con la fecha y la hora del sistema en el momento exacto en el que se ejecuta.\n",
    "* **.year** : Devuelve el año de la fecha, puede ser del tipo date o datetime.\n",
    "* **.month** : Devuelve el mes de la fecha, puede ser del tipo date o datetime.\n",
    "* **.day** : Devuelve el día de la fecha, puede ser del tipo date o datetime.\n",
    "* **.weekday()** : Devuelve el día de la semana de la fecha, puede ser del tipo date o datetime.\n",
    "* **.hour** : Devuelve las horas del tiempo, puede ser del tipo time o datetime.\n",
    "* **.minute** : Devuelve los minutos del tiempo, puede ser del tipo time o datetime.\n",
    "* **.second** : Devuelve los segundos del tiempo, puede ser del tipo time o datetime.\n",
    "\n",
    "Transcribir el siguiente codigo:"
   ]
  },
  {
   "cell_type": "code",
   "execution_count": 6,
   "metadata": {},
   "outputs": [
    {
     "name": "stdout",
     "output_type": "stream",
     "text": [
      "2023-06-05 2023-06-05 21:50:28.242585\n",
      "2023\n",
      "6\n",
      "5\n",
      "0\n",
      "21\n",
      "50\n",
      "28\n"
     ]
    }
   ],
   "source": [
    "fecha = datetime.date.today()\n",
    "fechahora = datetime.datetime.now()\n",
    "print (str(fecha),str(fechahora))\n",
    "print (fechahora.year)\n",
    "print (fechahora.month)\n",
    "print (fechahora.day)\n",
    "print (fechahora.weekday())\n",
    "print (fechahora.hour)\n",
    "print (fechahora.minute)\n",
    "print (fechahora.second)"
   ]
  },
  {
   "attachments": {},
   "cell_type": "markdown",
   "metadata": {},
   "source": [
    "## Conversión de fechas en cadenas\n",
    "* **.strftime(formato)** : Devuelve la cadena que resulta de transformar la fecha con el formato indicado en la cadena formato.\n",
    "\n",
    "La cadena formato puede contener los siguientes marcadores de posición:\n",
    "\n",
    "| marcador | explicacion                 |\n",
    "|----------|-----------------------------|\n",
    "| %Y       | año completo                |\n",
    "| %y       | últimos dos dígitos del año |\n",
    "| %m       | mes en número               |\n",
    "| %B       | mes en palabra              |\n",
    "| %d       | día                         |\n",
    "| %A       | día de la semana            |\n",
    "| %a       | día de la semana abrevidado |\n",
    "| %H       | hora en formato 24 horas    |\n",
    "| %I       | hora en formato 12 horas    |\n",
    "| %M       | minutos                     |\n",
    "| %S       | segundos                    |\n",
    "| %p       | AM o PM                     |\n",
    "| %C       | fecha y hora completas      |\n",
    "| %x       | fecha completa              |\n",
    "| %X       | hora completa               |\n",
    "\n",
    "Transcribir el siguiente codigo:\n"
   ]
  },
  {
   "cell_type": "code",
   "execution_count": 13,
   "metadata": {},
   "outputs": [
    {
     "name": "stdout",
     "output_type": "stream",
     "text": [
      "05-06-2023\n",
      "Monday, 05 June, 23\n",
      "21:58:53\n",
      "21 horas, 58 minutos y 53 segundos\n"
     ]
    }
   ],
   "source": [
    "from datetime import date, time, datetime\n",
    "\n",
    "fechahora = datetime.now()\n",
    "print (fechahora.strftime(\"%d-%m-%Y\"))\n",
    "print (fechahora.strftime('%A, %d %B, %y'))\n",
    "print (fechahora.strftime('%H:%M:%S'))\n",
    "print (fechahora.strftime(\"%H horas, %M minutos y %S segundos\"))"
   ]
  },
  {
   "attachments": {},
   "cell_type": "markdown",
   "metadata": {},
   "source": [
    "## Conversión de cadenas en fechas\n",
    "* **strptime( , formato)** : Devuelve el objeto de tipo date, time o datetime que resulta de convertir la cadena de acuerdo al formato indicado en la cadena formato.\n",
    "\n",
    "La cadena formato puede contener los siguientes marcadores de posición:\n",
    "\n",
    "| marcador | explicacion                 |\n",
    "|----------|-----------------------------|\n",
    "| %Y       | año completo                |\n",
    "| %y       | últimos dos dígitos del año |\n",
    "| %m       | mes en número               |\n",
    "| %B       | mes en palabra              |\n",
    "| %d       | día                         |\n",
    "| %A       | día de la semana            |\n",
    "| %a       | día de la semana abrevidado |\n",
    "| %H       | hora en formato 24 horas    |\n",
    "| %I       | hora en formato 12 horas    |\n",
    "| %M       | minutos                     |\n",
    "| %S       | segundos                    |\n",
    "| %p       | AM o PM                     |\n",
    "| %C       | fecha y hora completas      |\n",
    "| %x       | fecha completa              |\n",
    "| %X       | hora completa               |\n",
    "\n",
    "Transcribir el siguiente codigo:"
   ]
  },
  {
   "cell_type": "code",
   "execution_count": 16,
   "metadata": {},
   "outputs": [
    {
     "name": "stdout",
     "output_type": "stream",
     "text": [
      "2020-04-15 00:00:00\n",
      "2020-04-15 00:00:00\n",
      "2020-04-15 20:50:30\n",
      "2020-04-15 20:50:30\n"
     ]
    }
   ],
   "source": [
    "print (datetime.strptime('15/04/2020', '%d/%m/%Y'))\n",
    "print (datetime(2020,4,15,0,0))\n",
    "print (datetime.strptime('2020-4-15 20:50:30', '%Y-%m-%d %H:%M:%S'))\n",
    "print (datetime(2020,4,15,20,50,30))"
   ]
  },
  {
   "attachments": {},
   "cell_type": "markdown",
   "metadata": {},
   "source": [
    "## Aritmética de fechas\n",
    "Para representar el tiempo transcurrido entre dos fechas se utiliza el tipo timedelta.\n",
    "\n",
    "* **timedelta(dias, segundos, microsegundos)** : Devuelve un objeto del tipo timedelta que representa un intervalo de tiempo con los dias, segundos y micorsegundos indicados.\n",
    "* **d1 - d2** : Devuelve un objeto del tipo timedelta que representa el tiempo transcurrido entre las fechas d1 y d2 del tipo datetime.\n",
    "* **d1 + timedelta()** : Devuelve la fecha del tipo datetime que resulta de sumar a la fecha d el intervalo de tiempo delta, donde delta es del tipo timedelta.\n",
    "\n",
    "Transcribir el siguiente codigo:"
   ]
  },
  {
   "cell_type": "code",
   "execution_count": 18,
   "metadata": {},
   "outputs": [
    {
     "name": "stdout",
     "output_type": "stream",
     "text": [
      "2020-01-01 00:00:00\n",
      "2020-02-01 01:00:00\n",
      "1251 days, 22:07:33.194451\n",
      "130 days, 0:30:26.895590\n"
     ]
    }
   ],
   "source": [
    "from datetime import date, time, datetime, timedelta\n",
    "\n",
    "fecha1 = datetime(2020,1,1)\n",
    "print (fecha1)\n",
    "fecha2 = fecha1 + timedelta(31,3600)\n",
    "print (fecha2)\n",
    "fecha3 = datetime.now() - fecha1\n",
    "print (fecha3)\n",
    "fecha4 = timedelta(days=130, seconds=1826, microseconds=895590)\n",
    "print (fecha4)"
   ]
  }
 ],
 "metadata": {
  "kernelspec": {
   "display_name": "Python 3",
   "language": "python",
   "name": "python3"
  },
  "language_info": {
   "codemirror_mode": {
    "name": "ipython",
    "version": 3
   },
   "file_extension": ".py",
   "mimetype": "text/x-python",
   "name": "python",
   "nbconvert_exporter": "python",
   "pygments_lexer": "ipython3",
   "version": "3.11.3"
  },
  "orig_nbformat": 4
 },
 "nbformat": 4,
 "nbformat_minor": 2
}
