{
 "cells": [
  {
   "attachments": {},
   "cell_type": "markdown",
   "metadata": {},
   "source": [
    "# Ciclos (estructura de repeticion)"
   ]
  },
  {
   "attachments": {},
   "cell_type": "markdown",
   "metadata": {},
   "source": [
    "Los ciclos, también conocidos como bucles o estructuras de control repetitivas, te permite repetir una o varias instrucciones cuantas veces lo necesitemos, por ejemplo, si quisiéramos escribir los números del uno al cien no tendría sentido escribir cien líneas de código mostrando un número en cada una, para eso y para varias cosas más es útil un ciclo. Un ciclo nos ayuda a llevar a cabo una tarea repetitiva en una cantidad de líneas muy pequeña y de forma automática (y muy rápida).\n",
    "\n",
    "# ciclo for\n",
    "\n",
    "Transcribir el siguiente codigo:\n"
   ]
  },
  {
   "cell_type": "code",
   "execution_count": 3,
   "metadata": {},
   "outputs": [
    {
     "name": "stdout",
     "output_type": "stream",
     "text": [
      "0 \n",
      "1 hola\n",
      "2 holahola\n",
      "3 holaholahola\n",
      "4 holaholaholahola\n",
      "0\n",
      "1\n",
      "2\n",
      "3\n",
      "encontrado 3\n",
      "c\n",
      "u\n",
      "r\n",
      "s\n",
      "o\n",
      " \n",
      "d\n",
      "e\n",
      " \n",
      "p\n",
      "y\n",
      "t\n",
      "h\n",
      "o\n",
      "n\n"
     ]
    }
   ],
   "source": [
    "for num in range(5):\n",
    "    print (num, num* \"hola\")\n",
    "\n",
    "buscar = 3\n",
    "for num in range(5):\n",
    "    print (num)\n",
    "    if num == buscar:\n",
    "        print (\"encontrado\", buscar)\n",
    "        break\n",
    "\n",
    "for car in \"curso de python\":\n",
    "    print (car)    "
   ]
  },
  {
   "attachments": {},
   "cell_type": "markdown",
   "metadata": {},
   "source": [
    "# ciclo while\n",
    "\n",
    "Transcribir el siguiente codigo:"
   ]
  },
  {
   "cell_type": "code",
   "execution_count": 7,
   "metadata": {},
   "outputs": [
    {
     "name": "stdout",
     "output_type": "stream",
     "text": [
      "1\n",
      "2\n",
      "4\n",
      "8\n",
      "16\n",
      "32\n",
      "64\n",
      "salir\n",
      "cls\n",
      "cd\n",
      "c:\n",
      "d:\n",
      "dir\n",
      "type\n",
      "salir\n"
     ]
    }
   ],
   "source": [
    "numero = 1\n",
    "while numero < 100:\n",
    "    print (numero)\n",
    "    numero *= 2\n",
    "\n",
    "comando = \"\"\n",
    "while comando.lower() != \"salir\":\n",
    "    comando = input(\"$ \")\n",
    "    print (comando)\n",
    "\n",
    "while True:\n",
    "    comando = input(\"$ \")\n",
    "    print (comando)\n",
    "    if comando.lower() == \"salir\":\n",
    "        break"
   ]
  },
  {
   "attachments": {},
   "cell_type": "markdown",
   "metadata": {},
   "source": [
    "# ciclos anidados\n",
    "\n",
    "Se habla de bucles anidados cuando un bucle se encuentra en el bloque de instrucciones de otro bloque. \n",
    "Al bucle que se encuentra dentro del otro se le puede denominar bucle interior o bucle interno. El otro bucle sería el bucle exterior o bucle externo. Los bucles pueden tener cualquier nivel de anidamiento (un bucle dentro de otro bucle dentro de un tercero, etc.).\n",
    "\n",
    "* Se dice que las variables de los bucles son independientes cuando los valores que toma la variable de control del bucle interno no dependen del valor de la variable de control del bucle externo.\n",
    "* Se dice que las variables de los bucles son dependientes cuando los valores que toma la variable de control del bucle interno dependen del valor de la variable de control del bucle externo.\n",
    "\n",
    "Transcribir el siguiente codigo:"
   ]
  },
  {
   "cell_type": "code",
   "execution_count": 9,
   "metadata": {},
   "outputs": [
    {
     "name": "stdout",
     "output_type": "stream",
     "text": [
      "1.1\n",
      "1.2\n",
      "1.3\n",
      "2.1\n",
      "2.2\n",
      "2.3\n",
      "3.1\n",
      "3.2\n",
      "3.3\n",
      "4.1\n",
      "4.2\n",
      "4.3\n",
      "5.1\n",
      "5.2\n",
      "5.3\n"
     ]
    }
   ],
   "source": [
    "for valJ in range(1,6):\n",
    "    for valK in range(1,4):\n",
    "        print (f'{valJ}.{valK}')"
   ]
  }
 ],
 "metadata": {
  "kernelspec": {
   "display_name": "Python 3",
   "language": "python",
   "name": "python3"
  },
  "language_info": {
   "codemirror_mode": {
    "name": "ipython",
    "version": 3
   },
   "file_extension": ".py",
   "mimetype": "text/x-python",
   "name": "python",
   "nbconvert_exporter": "python",
   "pygments_lexer": "ipython3",
   "version": "3.11.3"
  },
  "orig_nbformat": 4
 },
 "nbformat": 4,
 "nbformat_minor": 2
}
