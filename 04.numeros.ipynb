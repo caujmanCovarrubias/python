{
 "cells": [
  {
   "attachments": {},
   "cell_type": "markdown",
   "metadata": {},
   "source": [
    "# Variables de tipo numero"
   ]
  },
  {
   "attachments": {},
   "cell_type": "markdown",
   "metadata": {},
   "source": [
    "En Python hay tres tipos numéricos básicos: enteros, de coma flotante y complejos (a través de bibliotecas se pueden incorporar otros tipos numéricos, como decimal y fracción) Vamos a comenzar utilizando los tipos de números enteros y de coma flotante y las operaciones basicas como son: suma, resta, multiplicacion y division.\n",
    "\n",
    "| operador        | signo  |\n",
    "|-----------------|--------|\n",
    "| suma            | +      |\n",
    "| resta           | -      |\n",
    "| multiplicacion  | *      |\n",
    "| division        | /      |\n",
    "| division entera | //     |\n",
    "| residuo         | %      |\n",
    "| potencia        | **     |\n",
    "\n",
    "Transcribir el siguiente codigo:"
   ]
  },
  {
   "cell_type": "code",
   "execution_count": 1,
   "metadata": {},
   "outputs": [
    {
     "name": "stdout",
     "output_type": "stream",
     "text": [
      "1\n",
      "3.9000000000000004\n",
      "35\n",
      "-0.5666666666666667\n"
     ]
    }
   ],
   "source": [
    "numero1 = 2\n",
    "numero2 = 1.3\n",
    "numero3 = 2 + 1j\n",
    "print (numero1 // 2)\n",
    "print (3 * numero2)\n",
    "numero1 += 5\n",
    "numero1 *= 5\n",
    "numero2 -= 3\n",
    "numero2 /= 3\n",
    "print (numero1)\n",
    "print (numero2)"
   ]
  },
  {
   "cell_type": "code",
   "execution_count": 2,
   "metadata": {},
   "outputs": [
    {
     "name": "stdout",
     "output_type": "stream",
     "text": [
      "suma: 4 y resta: -2\n",
      "multiplicacion 3 y division: 0.3333333333333333\n",
      "parte entera: 0 y residuo 1\n",
      "potencia de valor positivo 8 y valor negatico 16\n"
     ]
    }
   ],
   "source": [
    "print (f'suma: {1 + 3} y resta: {1-3}')\n",
    "print (f'multiplicacion {1 * 3} y division: {1 / 3}')\n",
    "print (f'parte entera: {1 // 3} y residuo {1 % 3}')\n",
    "print (f'potencia de valor positivo {2 ** 3} y valor negatico {(-2) ** 4}')"
   ]
  },
  {
   "attachments": {},
   "cell_type": "markdown",
   "metadata": {},
   "source": [
    "## math\n",
    "Esta libreria proporciona acceso a las funciones matemáticas definidas en el estándar de C. Entre esas funciones esta: round, abs, ceilm, floor, isnan y pow. \n",
    "\n",
    "Transcribir el siguiente codigo:"
   ]
  },
  {
   "cell_type": "code",
   "execution_count": 4,
   "metadata": {},
   "outputs": [
    {
     "name": "stdout",
     "output_type": "stream",
     "text": [
      "1\n",
      "2\n",
      "2\n",
      "77\n",
      "55\n",
      "2\n",
      "1\n",
      "False\n",
      "1000.0\n",
      "10.0\n"
     ]
    }
   ],
   "source": [
    "import math\n",
    "print (round(1.3))\n",
    "print (round(1.7))\n",
    "print (round(1.5))\n",
    "print (abs(-77))\n",
    "print (abs(55))\n",
    "\n",
    "print (math.ceil(1.25))\n",
    "print (math.floor(1.99))\n",
    "print (math.isnan(23))\n",
    "print (math.pow(10, 3))\n",
    "print (math.sqrt(100))"
   ]
  }
 ],
 "metadata": {
  "kernelspec": {
   "display_name": "Python 3",
   "language": "python",
   "name": "python3"
  },
  "language_info": {
   "codemirror_mode": {
    "name": "ipython",
    "version": 3
   },
   "file_extension": ".py",
   "mimetype": "text/x-python",
   "name": "python",
   "nbconvert_exporter": "python",
   "pygments_lexer": "ipython3",
   "version": "3.11.3"
  },
  "orig_nbformat": 4
 },
 "nbformat": 4,
 "nbformat_minor": 2
}
