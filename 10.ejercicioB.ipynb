{
 "cells": [
  {
   "attachments": {},
   "cell_type": "markdown",
   "metadata": {},
   "source": [
    "# Ejercicio B - nueva calculadora"
   ]
  },
  {
   "attachments": {},
   "cell_type": "markdown",
   "metadata": {},
   "source": [
    "realice el siguiente ejercicio en Python *(utilice las estructuras que se ha visto hasta el momento)*\n",
    "ingrese el numero 1, ingrese la operacion, luego ingrese el numero 2, calcule las cuatro operaciones fundamentales y muestre el resultado en pantalla. Quedando este resultado como numero 1 para el siguiente calculo, donde se espera que se ingrese la operacion y el segundo numero, se realiza esto hasta que se coloque el texto salir para terminar."
   ]
  },
  {
   "cell_type": "code",
   "execution_count": 1,
   "metadata": {},
   "outputs": [
    {
     "name": "stdout",
     "output_type": "stream",
     "text": [
      "bienvenidos a la calculadora\n",
      "para terminar escriba salir\n",
      "las operaciones son: suma, resta, multiplicacion y division\n"
     ]
    }
   ],
   "source": [
    "print ('bienvenidos a la calculadora')\n",
    "print ('para terminar escriba salir')\n",
    "print ('las operaciones son: suma, resta, multiplicacion y division')"
   ]
  },
  {
   "cell_type": "code",
   "execution_count": 3,
   "metadata": {},
   "outputs": [
    {
     "name": "stdout",
     "output_type": "stream",
     "text": [
      "10\n",
      "5\n",
      "15\n",
      "7.5\n",
      "operacion no valida\n"
     ]
    }
   ],
   "source": [
    "resultado = \"\"\n",
    "while True:\n",
    "    if not resultado:\n",
    "        resultado = input (\"ingrese numero: \")\n",
    "        if resultado.lower() == \"salir\":\n",
    "            break\n",
    "        resultado = int (resultado)\n",
    "    operacion = input(\"ingrese operacion: \")\n",
    "    if operacion.lower() == \"salir\":\n",
    "        break\n",
    "    numero = input(\"ingrese otro numero: \")\n",
    "    if numero.lower() == \"salir\":\n",
    "        break\n",
    "    numero = int(numero)\n",
    "    if operacion.lower() == \"suma\":\n",
    "        resultado += numero\n",
    "    elif operacion.lower() == \"resta\":\n",
    "        resultado -= numero\n",
    "    elif operacion.lower() == \"multiplicacion\":\n",
    "        resultado *= numero\n",
    "    elif operacion.lower() == \"division\":\n",
    "        resultado /= numero\n",
    "    else:\n",
    "        print(\"operacion no valida\")\n",
    "        break\n",
    "    print (resultado)\n"
   ]
  }
 ],
 "metadata": {
  "kernelspec": {
   "display_name": "Python 3",
   "language": "python",
   "name": "python3"
  },
  "language_info": {
   "codemirror_mode": {
    "name": "ipython",
    "version": 3
   },
   "file_extension": ".py",
   "mimetype": "text/x-python",
   "name": "python",
   "nbconvert_exporter": "python",
   "pygments_lexer": "ipython3",
   "version": "3.11.3"
  },
  "orig_nbformat": 4
 },
 "nbformat": 4,
 "nbformat_minor": 2
}
