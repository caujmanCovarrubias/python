{
 "cells": [
  {
   "attachments": {},
   "cell_type": "markdown",
   "metadata": {},
   "source": [
    "# Conjuntos"
   ]
  },
  {
   "attachments": {},
   "cell_type": "markdown",
   "metadata": {},
   "source": [
    "Un conjunto es una colección no ordenada de elementos únicos **(no ordenado y no tiene valores repetidos)**. Python provee este tipo de datos *por defecto* al igual que otras colecciones más convencionales como las listas, tuplas y diccionarios. Los conjuntos son ampliamente utilizados en lógica y matemática, y desde el lenguaje podemos sacar provecho de sus propiedades.\n",
    "\n",
    "Para crear una lista se utiliza llaves *(los elementos del conjunto no pueden ser ni listas, ni diccionarios ni otros conjuntos)*. Se tiene el metodo de **add** para agregar un nuevo elemento, los metodos de **discard** que elimina si lo encuentra y sino no pasa nada y **remove** para eliminar elementos del conjunto en caso de que no se encontrara el elemento da un error.\n",
    "Hay la posilibidad de crear conjuntos de listas y tambien la opcion de crear conjuntos vacios. Tambien estas presentes operaciones como union, interseccion, diferencia y diferencia simetrica entre conjuntos. El operador in verifica si un elemento esta dentro del conjunto."
   ]
  },
  {
   "cell_type": "code",
   "execution_count": 3,
   "metadata": {},
   "outputs": [
    {
     "name": "stdout",
     "output_type": "stream",
     "text": [
      "{1, 2, 3, 4}\n",
      "{1, 2, 4, 5}\n",
      "{1, 2, 3, 4, 5}\n",
      "{4, 5}\n",
      "{1, 2}\n",
      "{1, 2, 3}\n"
     ]
    }
   ],
   "source": [
    "primer = {1,1,2,2,2,3,4}\n",
    "print (primer)\n",
    "primer.add(5)\n",
    "primer.remove(3)\n",
    "print (primer)\n",
    "segundo = set([3,4,5])\n",
    "tercero = set()\n",
    "\n",
    "print (primer | segundo)\n",
    "print (primer & segundo)\n",
    "print (primer - segundo)\n",
    "print (primer ^ segundo)\n"
   ]
  }
 ],
 "metadata": {
  "kernelspec": {
   "display_name": "Python 3",
   "language": "python",
   "name": "python3"
  },
  "language_info": {
   "codemirror_mode": {
    "name": "ipython",
    "version": 3
   },
   "file_extension": ".py",
   "mimetype": "text/x-python",
   "name": "python",
   "nbconvert_exporter": "python",
   "pygments_lexer": "ipython3",
   "version": "3.11.3"
  },
  "orig_nbformat": 4
 },
 "nbformat": 4,
 "nbformat_minor": 2
}
