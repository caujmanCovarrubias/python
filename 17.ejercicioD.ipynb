{
 "cells": [
  {
   "attachments": {},
   "cell_type": "markdown",
   "metadata": {},
   "source": [
    "# Ejercicio D - Compras"
   ]
  },
  {
   "attachments": {},
   "cell_type": "markdown",
   "metadata": {},
   "source": [
    "realice el siguiente ejercicio en Python *(utilice las estructuras que se ha visto hasta el momento)*\n",
    "cree la representacion de una cesta para registrar las compras del supermercado. El programa debe preguntar el nombre del producto, la cantidad comprada y su precio unitario, hasta que se termine con la palabra total para calcular el total gastado. Después se debe mostrar por pantalla la lista de la compra y el total.\n",
    "\n",
    "El resultado del programa podria ser de la siguiente forma *(las lineas son referenciales)*:\n",
    "\n",
    "## Compras\n",
    "| producto          | cantidad | precio | total     |\n",
    "|-------------------|----------|--------|-----------|\n",
    "| leche evaporada   | 3        | 9bs    | 27bs      |\n",
    "| pan               | 10       | 0.5bs  | 5bs       |\n",
    "| chorizo (paquete) | 2        | 20bs   | 40bs      |\n",
    "| manzana (bolsa)   | 1        | 10bs   | 10bs      |\n",
    "| platano (bolsa)   | 2        | 5bs    | 10bs      |\n",
    "|                   |          |        | **92bs**  |\n"
   ]
  },
  {
   "cell_type": "code",
   "execution_count": 4,
   "metadata": {},
   "outputs": [
    {
     "name": "stdout",
     "output_type": "stream",
     "text": [
      "cesta de producto\n",
      "platano \t 3 \t 5.0\n",
      "manzana \t 5 \t 8.0\n",
      "precio total:  55.0\n"
     ]
    }
   ],
   "source": [
    "cesta = []\n",
    "while True:\n",
    "    producto = input('introduce un producto')\n",
    "    cantidad = input('introduce la cantidad de ' + producto + ': ')\n",
    "    cantidad = int(cantidad)\n",
    "    precio = input('introduce el precio unitario de ' + producto + ': ')\n",
    "    precio = float(precio)\n",
    "    producto_cesta = {}\n",
    "    producto_cesta['nombre'] = producto\n",
    "    producto_cesta['cantidad'] = cantidad\n",
    "    producto_cesta['precio'] = precio\n",
    "    cesta.append(producto_cesta)\n",
    "    finalizar = input ('quiere anadir mas productos (escriba \"total\" para terminar)')\n",
    "    if finalizar.lower() == 'total':\n",
    "        break\n",
    "preciototal = 0\n",
    "print ('cesta de producto')\n",
    "for producto in cesta:\n",
    "    print (f\"{producto['nombre']} \\t {producto['cantidad']} \\t {producto['precio']}\")\n",
    "    preciototal += int(producto['cantidad']) * float(producto['precio'])\n",
    "print ('precio total: ',preciototal)\n",
    "\n"
   ]
  }
 ],
 "metadata": {
  "kernelspec": {
   "display_name": "Python 3",
   "language": "python",
   "name": "python3"
  },
  "language_info": {
   "codemirror_mode": {
    "name": "ipython",
    "version": 3
   },
   "file_extension": ".py",
   "mimetype": "text/x-python",
   "name": "python",
   "nbconvert_exporter": "python",
   "pygments_lexer": "ipython3",
   "version": "3.11.3"
  },
  "orig_nbformat": 4
 },
 "nbformat": 4,
 "nbformat_minor": 2
}
