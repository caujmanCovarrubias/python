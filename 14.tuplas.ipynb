{
 "cells": [
  {
   "attachments": {},
   "cell_type": "markdown",
   "metadata": {},
   "source": [
    "# Tuplas"
   ]
  },
  {
   "attachments": {},
   "cell_type": "markdown",
   "metadata": {},
   "source": [
    "Una tupla es un conjunto **ordenado e inmutable** de elementos del mismo o diferente tipo. Su representación se realiza mediante paréntesis y comas para separar los elementos. Incluso es posible que una tupla esté vacía, sin contener ningún elemento.\n",
    "\n",
    "La suma de dos tuplas genera una nueva tupla como resultado. Además, se puede convertir una lista en una tupla desempaquetando los elementos necesarios para realizar operaciones adicionales. Una tupla se considera iterable y, si es necesario, puede convertirse en una lista. Así, se mantienen las características de orden y mutabilidad de la tupla original."
   ]
  },
  {
   "cell_type": "code",
   "execution_count": 3,
   "metadata": {},
   "outputs": [
    {
     "name": "stdout",
     "output_type": "stream",
     "text": [
      "(1, 2, 3, 4, 5, 6)\n",
      "(1, 2)\n",
      "(1, 2)\n",
      "1 2 [3, 4, 5, 6]\n",
      "1\n",
      "2\n",
      "3\n",
      "4\n",
      "5\n",
      "6\n"
     ]
    }
   ],
   "source": [
    "primero = (1,2,3)\n",
    "segundo = primero + (4,5,6)\n",
    "print (segundo)\n",
    "# segundo[0]=-1\n",
    "tercero = tuple ([1,2])\n",
    "print (tercero)\n",
    "\n",
    "print (segundo[:2])\n",
    "elemento1,elemento2,*otros = segundo\n",
    "print (elemento1,elemento2,otros)\n",
    "for numero in segundo:\n",
    "    print (numero)"
   ]
  }
 ],
 "metadata": {
  "kernelspec": {
   "display_name": "Python 3",
   "language": "python",
   "name": "python3"
  },
  "language_info": {
   "codemirror_mode": {
    "name": "ipython",
    "version": 3
   },
   "file_extension": ".py",
   "mimetype": "text/x-python",
   "name": "python",
   "nbconvert_exporter": "python",
   "pygments_lexer": "ipython3",
   "version": "3.11.3"
  },
  "orig_nbformat": 4
 },
 "nbformat": 4,
 "nbformat_minor": 2
}
