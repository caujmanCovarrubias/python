{
 "cells": [
  {
   "attachments": {},
   "cell_type": "markdown",
   "metadata": {},
   "source": [
    "# Diccionarios"
   ]
  },
  {
   "attachments": {},
   "cell_type": "markdown",
   "metadata": {},
   "source": [
    "Los diccionarios permiten almacenar una serie de pares de valores, llamados claves y valores.\n",
    "\n",
    "* Todos los elementos se encuentran encerrados en un par de llaves {}.\n",
    "* Cada elemento contiene una clave y un valor - es decir un par \"clave-valor\".\n",
    "* Se accede a todos los valores almacenados usando las claves."
   ]
  },
  {
   "cell_type": "code",
   "execution_count": 1,
   "metadata": {},
   "outputs": [
    {
     "name": "stdout",
     "output_type": "stream",
     "text": [
      "52\n",
      "{'jorge': 30, 'diana': 61, 'rodrigo': 52, 'julia': 65, 'maria': 70, 'jose': 80, 'raymundo': 42}\n"
     ]
    }
   ],
   "source": [
    "resultados = {'jorge':30,'diana':61,'rodrigo':52,'julia':65,'maria':70,'jose':80}\n",
    "print (resultados['rodrigo'])\n",
    "resultados['raymundo']=24\n",
    "resultados['raymundo']=42\n",
    "print (resultados)\n"
   ]
  },
  {
   "attachments": {},
   "cell_type": "markdown",
   "metadata": {},
   "source": [
    "Para poder verificar si un elemento clave-valor se encuentra, se realiza con el operador de conjunto **in** para no obtener un error. Otra forma de realizar la busqueda de un elemento clave-valor es con el metodo **get**, que incluye el parametro por defecto que dara como resultado si no se encuentra la clave. Para borrar se utiliza el metodo **pop** (este incluye un valor por defecto para indicar que no se ha encon) o la funcion **del**, para limpiar todo el diccionario se tiene la alternativa clear.\n",
    "Para recorrer un diccionario se utiliza un ciclo for sobre esta estructura iterable. Aunque con el metodo de **items** tambien se puede hacer lo mismo. Habiendo la oportunidad de desempaquetar los elementos clave-valor:"
   ]
  },
  {
   "cell_type": "code",
   "execution_count": 4,
   "metadata": {},
   "outputs": [
    {
     "name": "stdout",
     "output_type": "stream",
     "text": [
      "30\n",
      "-1\n",
      "{'jorge': 30, 'diana': 61, 'rodrigo': 52, 'julia': 65, 'jose': 80}\n",
      "jorge\n",
      "diana\n",
      "rodrigo\n",
      "julia\n",
      "jose\n",
      "jorge 30\n",
      "diana 61\n",
      "rodrigo 52\n",
      "julia 65\n",
      "jose 80\n",
      "jorge diana ['rodrigo', 'julia', 'jose']\n"
     ]
    }
   ],
   "source": [
    "\n",
    "resultados = {'jorge':30,'diana':61,'rodrigo':52,'julia':65,'maria':70,'jose':80}\n",
    "if \"carlos\" in resultados:\n",
    "    print ('elemento encontrado')\n",
    "print (resultados.get('jorge'))\n",
    "print (resultados.get('pedro',-1))\n",
    "del resultados['maria']\n",
    "resultados.pop (\"pedro\",-1)\n",
    "print (resultados)\n",
    "\n",
    "for resultado in resultados:\n",
    "    print (resultado)\n",
    "\n",
    "for llave,valor in resultados.items():\n",
    "    print (llave, valor)\n",
    "\n",
    "primero,segundo, *otros= resultados\n",
    "print (primero, segundo,otros)\n"
   ]
  },
  {
   "attachments": {},
   "cell_type": "markdown",
   "metadata": {},
   "source": [
    "Hay que tomar en cuenta que existen las listas de diccionarios que permiten representar informacion relacionada regular de varios elementos que tienen la misma estructura."
   ]
  },
  {
   "cell_type": "code",
   "execution_count": 6,
   "metadata": {},
   "outputs": [
    {
     "name": "stdout",
     "output_type": "stream",
     "text": [
      "[{'id': 1, 'nombre': 'jorge', 'nota': 30}, {'id': 2, 'nombre': 'diana', 'nota': 63}, {'id': 3, 'nombre': 'rodrigo', 'nota': 52}, {'id': 4, 'nombre': 'julia', 'nota': 65}, {'id': 5, 'nombre': 'maria', 'nota': 70}, {'id': 6, 'nombre': 'jose', 'nota': 80}, {'id': 7, 'nombre': 'pedro', 'nota': 37}]\n",
      "{'id': 5, 'nombre': 'maria', 'nota': 70}\n"
     ]
    }
   ],
   "source": [
    "resultados = [\n",
    "    {'id':1, 'nombre': 'jorge', 'nota':30},\n",
    "    {'id':2, 'nombre': 'diana', 'nota':63},\n",
    "    {'id':3, 'nombre': 'rodrigo', 'nota':52},\n",
    "    {'id':4, 'nombre': 'julia', 'nota':65},\n",
    "    {'id':5, 'nombre': 'maria', 'nota':70},\n",
    "    {'id':6, 'nombre': 'jose', 'nota':80},\n",
    "    {'id':7, 'nombre': 'pedro', 'nota':37}\n",
    "]\n",
    "print (resultados)\n",
    "\n",
    "for resultado in resultados:\n",
    "    if (resultado[\"nombre\"]) == \"maria\":\n",
    "        print (resultado)"
   ]
  }
 ],
 "metadata": {
  "kernelspec": {
   "display_name": "Python 3",
   "language": "python",
   "name": "python3"
  },
  "language_info": {
   "codemirror_mode": {
    "name": "ipython",
    "version": 3
   },
   "file_extension": ".py",
   "mimetype": "text/x-python",
   "name": "python",
   "nbconvert_exporter": "python",
   "pygments_lexer": "ipython3",
   "version": "3.11.3"
  },
  "orig_nbformat": 4
 },
 "nbformat": 4,
 "nbformat_minor": 2
}
